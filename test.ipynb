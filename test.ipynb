{
 "cells": [
  {
   "cell_type": "code",
   "execution_count": 5,
   "id": "d90eaf54",
   "metadata": {},
   "outputs": [
    {
     "name": "stdout",
     "output_type": "stream",
     "text": [
      "✅ integration title passed: Luke Skywalker\n",
      "✅ integration paragraphs passed: ['', '34 ABY4 ABY9 BBYLuke SkywalkerBiographical informationHomeworldTatooine[1]Born(2daysafterEmpire Day),[2]19 BBY,Polis Massa[3]Died34 ABY,Ahch-To[3]Descriptive informationSpeciesHuman[1]GenderMale[1]PronounsHe/him[1]Height1.72meters(5ft, 8 in)[4]Mass73kilograms[5]Hair colorBlond(0 BBY),[6]Ash-brown (21 ABY)[7]Gray and white (34 ABY)[8]Eye colorBlue[1]Red(underAbersyn symbioteinfluence)[9]Purple(briefly; underScourge infection)[10]Skin colorLight[1]CyberneticsProstheticrighthand[11]Family informationFamilySkywalker family[1]Lars family[1]Parent(s)Anakin Skywalker[12]Padmé Amidala[13]Sibling(s)Leia Skywalker Organa Solo(twin)[13]Han Solo(brother-in-law)[8]Chronological & political informationAffiliation(s)Alliance to Restore the Republic[1]Red Squadron[1]Heroes of Yavin[14]Rogue Squadron[11]Endor strike team[12]Jedi Order[15]Scourge(briefly; as a vessel)[10]Bright Tree tribe(honorary member)[12]New Republic[16]MastersObi-Wan Kenobi[1]Yoda[11]ApprenticesLeia Organa[17]Grogu[18]Ben Solo[8]Several other students[19]Hennix[20]Tai[20]Voe[20]Rey[19][Source]', 'Luke Skywalker, aForce-sensitivehumanmale, was a legendaryJedi Masterwho fought in theGalactic Civil Warduring thereignof theGalactic Empire. Along with his companions,PrincessLeia OrganaandGeneralHan Solo, Skywalker served as a revolutionary on the side of theAlliance to Restore the Republic—an organization committed to the downfall of theGalacticEmpireand the restoration ofdemocracy. Following the war, Skywalker became a living legend, and was remembered as one of the greatestJediingalactic history.', \"The son ofJedi KnightAnakin SkywalkerandSenatorPadmé Amidala, Luke Skywalker wasbornalong with histwinsister, Leia, in19 BBY. As a result of Amidala'sdeathand Anakin's fall to thedark side of the Force, the Skywalkerchildrenwere separated and sent into hiding, with Leia adopted by theroyal familyofAlderaanwhile Luke was raised by hisrelativesonTatooine. Longing for a life of adventure and purpose, Skywalker joined the Rebellion and began learning the ways ofthe Forceunder the guidance of Jedi MasterObi-Wan Kenobi, whose firstapprenticewas Luke's ownfather. During theBattle of Yavinin0 BBY, Skywalker saved the Alliance from annihilation by destroying the Empire'splanet-killingsuperweapon, theDeath Star. He continued histrainingin theyearsthat followed, determined to become a Jedi Knight like his father before him, and found a new mentor inGrand MasterYoda. After his master's death, Skywalker participated in theBattle of Endorin4 ABY, during which he confronted theSith LordDarthVader, whom helearnedwas in fact his father, Anakin Skywalker. With Luke's help, Anakin returned to thelight side of the Forceby killing theEmperorandDark Lord of the SithDarth Sidiousat the cost of his own life, fulfilling his destiny as theChosen One. Following the Battle of Endor, Skywalker trained his sister as a first Jedi apprentice onAjan Kloss, but Leia ended her training after the birth of her son and seeing his death as a result of finishing her knighthood.\", \"With theSith's destruction and the subsequentcapitulationof the Empire, Skywalker traveled across thegalaxyduringNew RepublicEra, searching for knowledge that would aid him in rebuilding theJedi Order. In9 ABY, SkywalkerrescuedGrogu, aMandalorianForce-sensitive child that belonged to the samespeciesas Yoda, fromMoffGideon'sforces, and after temporarily taking the child as an apprentice onOssus. During the training, Skywalker was visited by Anakin's former padawan,Ahsoka Tano, where they discussed Grogu and how Skywalker sensed that the child's heart was not in relearning the Jedi path. After Grogu's caregiver,Din Djarin, visited the planet bearing agiftfor Grogu, Skywalker offered him with a choice, accept the gift and return to the Mandalorian, or takeYoda's lightsaberand continue with his Jedi training. Grogu chose to return to Djarin, while Skywalker bid Tano farewell as she departed for ways unknown.\", \"Skywalker later took his sister's son,Ben Solo, by15 ABYwho inherited thebloodlinein the Force and had the potential for limitless power, as an apprentice. BothtraveledtoElphronato study lost Jedi lore, where the trio encountered theKnights of Ren, while Solo began to be groomed bySnoke, ahumanoidbeing powerful in the Force. In21 ABY, Skywalker started feeling an increasing darkness in the Force and having dark visions that frequently came to him in meditation and undertook aquest to findthe hidden world ofExegol. Skywalker journeyed toTythonwhere upon meditating, he saw a vision of Exegol and faced nine wraiths when the force ghost of Anakin Skywalker appeared next to him. Following this, Skywalker was able to defeatKizaand the spirit ofExim Panshardbut was ultimately unable to locate Exegol after failing totrack downanassassincalledOchi.\", \"In28 ABY, Skywalker, glimpsing the darkness in Solo, briefly contemplated killing him, causing Solo to fall to the dark side. Thedestructionof histempleand the deaths of all his students convinced a haunted and regretful Skywalker that thetimehad come for the Jedi to end. Skywalker therefore soughtexileon thedistantworld ofAhch-To, having elected to live out his remainingdaysas ahermitdespite the galaxy's pleas for help during theriseof theFirst Order. His solitude was interrupted in34 ABY, shortly after thefallof the New Republic, resulting in a chain of events that led Skywalker to playone last, momentous rolein the conflict between light and darkness. Although hepassed away into the Force, his legend would spread throughout the galaxy, rekindling a spark of hope in the enemies of the First Order. Before his death, Skywalker declared that the Jedi Order would not die with him, having trained a final apprentice: theJakkuscavengerknown asRey.\", \"Ayear later, Skywalker's spirit communed with Rey during the final days of thewar. The Jedi apprentice had exiled herself to Ahch-To, following in Skywalker's example. However, he urged Rey toconfronthergrandfather, theresurrectedDarth Sidious. Believing he had been wrong, Skywalker told Rey that a Jedi's destiny was to confront fear. Following the Emperor's destruction, the spirits of Skywalker and his sister watched over Rey as she buried their lightsabers in Skywalker'schildhood homeon Tatooine and adopted the Skywalker name as her own, honoring their legacy and recognizing herself as a member of her chosen family.\", 'During theClone Wars,Jedi MasterYodaset out on a journey to discover the secrets ofimmortality. His journey took him toMoraband, the ancientSithhomeworld, where he facedvisionsof the future. At the end of his journey, theForce Priestess,Serenity, who guided his journey told him that there was another Skywalker, and Yoda heard his voice from the future say so as well.[22]These events alluded to the birth and destiny of Luke Skywalker, as well as histwinsisterLeia.[12]', \"Luke Skywalker wasbornin19 BBY[3]on theasteroidfield ofPolis Massa[13]twodaysafter theproclamationof theGalactic Empire.[2]He[1]and his twin sister, Leia, who was born minutes after him, were the children ofGalactic RepublicSenatorPadmé Amidala, whodiedshortly after the births, andJedi KnightAnakin Skywalker, who had recently fallen to thedark side of the Force. To protect the children from the Empire and their father, the now-Sith LordDarth Vader,Obi-Wan Kenobipersonally sent the infant Luke to be raised by Anakin's stepbrother,Owen Larsand hiswife,Beruon theplanetTatooine, while SenatorBail Organaagreed to adopt Leia together with his wife, thequeen of Alderaan.[13]Kenobi boarded the late GeneralGrievous's starfighter, theSoulless One, once more flew to the planetNar Shaddaaand sold it there to transport Luke Skywalker to Tatooine.[23]\"]\n",
      "🎉 All integration tests passed!\n"
     ]
    }
   ],
   "source": [
    "# tests/integration/test_starwars.py\n",
    "\n",
    "import os, sys\n",
    "# sys.path.insert(0, os.path.abspath(os.path.join(__file__, '..', '..')))\n",
    "\n",
    "import requests\n",
    "from bs4 import BeautifulSoup\n",
    "from utils.selectors import selectors\n",
    "\n",
    "def main():\n",
    "    url = \"https://starwars.fandom.com/wiki/Luke_Skywalker\"\n",
    "    resp = requests.get(url, timeout=10)\n",
    "    resp.raise_for_status()\n",
    "    soup = BeautifulSoup(resp.text, 'html.parser')\n",
    "    conf = selectors[\"default\"]\n",
    "\n",
    "    # title\n",
    "    css_title = conf[\"title\"][\"css\"].split(\"::\")[0]\n",
    "    el = soup.select_one(css_title)\n",
    "    title = el.get_text(strip=True) if el else \"\"\n",
    "    if \"Luke Skywalker\" not in title:\n",
    "        raise AssertionError(f\"❌ integration title failed, got {title!r}\")\n",
    "    print(\"✅ integration title passed:\", title)\n",
    "\n",
    "    # 前兩段\n",
    "    css_para = conf[\"content_paragraphs\"][\"css\"].split(\"::\")[0]\n",
    "    ps = soup.select(css_para)\n",
    "    paras = [p.get_text(strip=True) for p in ps[:10]]\n",
    "    if len(paras) < 2:\n",
    "        raise AssertionError(f\"❌ only {len(paras)} paras: {paras}\")\n",
    "    print(\"✅ integration paragraphs passed:\", paras)\n",
    "\n",
    "    print(\"🎉 All integration tests passed!\")\n",
    "\n",
    "if __name__ == \"__main__\":\n",
    "   main()"
   ]
  }
 ],
 "metadata": {
  "kernelspec": {
   "display_name": ".venv",
   "language": "python",
   "name": "python3"
  },
  "language_info": {
   "codemirror_mode": {
    "name": "ipython",
    "version": 3
   },
   "file_extension": ".py",
   "mimetype": "text/x-python",
   "name": "python",
   "nbconvert_exporter": "python",
   "pygments_lexer": "ipython3",
   "version": "3.9.10"
  }
 },
 "nbformat": 4,
 "nbformat_minor": 5
}
